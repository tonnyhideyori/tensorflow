{
  "nbformat": 4,
  "nbformat_minor": 0,
  "metadata": {
    "language_info": {
      "codemirror_mode": {
        "name": "ipython",
        "version": 3
      },
      "file_extension": ".py",
      "mimetype": "text/x-python",
      "name": "python",
      "nbconvert_exporter": "python",
      "pygments_lexer": "ipython3",
      "version": "3.8.5-final"
    },
    "orig_nbformat": 2,
    "kernelspec": {
      "name": "Python 3.8.5 64-bit",
      "display_name": "Python 3.8.5 64-bit",
      "metadata": {
        "interpreter": {
          "hash": "c1a0b54b9b4ca6304ed4e1484ef565286ebffc76cb51e01287a712a2a546db83"
        }
      }
    },
    "colab": {
      "name": "NLP.ipynb",
      "provenance": [],
      "toc_visible": true,
      "include_colab_link": true
    }
  },
  "cells": [
    {
      "cell_type": "markdown",
      "metadata": {
        "id": "view-in-github",
        "colab_type": "text"
      },
      "source": [
        "<a href=\"https://colab.research.google.com/github/tonnyhideyori/tensorflow/blob/master/NLP_Google.ipynb\" target=\"_parent\"><img src=\"https://colab.research.google.com/assets/colab-badge.svg\" alt=\"Open In Colab\"/></a>"
      ]
    },
    {
      "cell_type": "code",
      "metadata": {
        "id": "jt-i0UHdF9Nt"
      },
      "source": [
        "import pandas as pd \n",
        "import numpy as np \n",
        "import matplotlib.pyplot as plt\n",
        "%tensorflow_version 2.x\n",
        "import tensorflow as tf"
      ],
      "execution_count": 1,
      "outputs": []
    },
    {
      "cell_type": "code",
      "metadata": {
        "id": "6-xlSyhuF9N0"
      },
      "source": [
        "path_to_file='shakespeare.txt'"
      ],
      "execution_count": 2,
      "outputs": []
    },
    {
      "cell_type": "code",
      "metadata": {
        "id": "zx5ailVmF9N5"
      },
      "source": [
        "text=open(path_to_file,'r').read()"
      ],
      "execution_count": 3,
      "outputs": []
    },
    {
      "cell_type": "code",
      "metadata": {
        "id": "aKHKlsP1F9N9",
        "outputId": "d2301c62-dec3-4442-d790-a7adf1de07c4",
        "colab": {
          "base_uri": "https://localhost:8080/",
          "height": 655
        }
      },
      "source": [
        "print(text[4500:6000])"
      ],
      "execution_count": 4,
      "outputs": [
        {
          "output_type": "stream",
          "text": [
            "converted are\n",
            "  From his low tract and look another way:\n",
            "    So thou, thy self out-going in thy noon:\n",
            "    Unlooked on diest unless thou get a son.\n",
            "\n",
            "\n",
            "                     8\n",
            "  Music to hear, why hear'st thou music sadly?\n",
            "  Sweets with sweets war not, joy delights in joy:\n",
            "  Why lov'st thou that which thou receiv'st not gladly,\n",
            "  Or else receiv'st with pleasure thine annoy?\n",
            "  If the true concord of well-tuned sounds,\n",
            "  By unions married do offend thine ear,\n",
            "  They do but sweetly chide thee, who confounds\n",
            "  In singleness the parts that thou shouldst bear:  \n",
            "  Mark how one string sweet husband to another,\n",
            "  Strikes each in each by mutual ordering;\n",
            "  Resembling sire, and child, and happy mother,\n",
            "  Who all in one, one pleasing note do sing:\n",
            "    Whose speechless song being many, seeming one,\n",
            "    Sings this to thee, 'Thou single wilt prove none'.\n",
            "\n",
            "\n",
            "                     9\n",
            "  Is it for fear to wet a widow's eye,\n",
            "  That thou consum'st thy self in single life?\n",
            "  Ah, if thou issueless shalt hap to die,\n",
            "  The world will wail thee like a makeless wife,\n",
            "  The world will be thy widow and still weep,\n",
            "  That thou no form of thee hast left behind,\n",
            "  When every private widow well may keep,\n",
            "  By children's eyes, her husband's shape in mind:\n",
            "  Look what an unthrift in the world doth spend\n",
            "  Shifts but his place, for still the world enjoys it;\n",
            "  But beauty's waste hath in the world an end,\n",
            "  And kept unused the user so destroys it:  \n",
            "    No love toward others in that bosom sits\n",
            "    That on himself such\n"
          ],
          "name": "stdout"
        }
      ]
    },
    {
      "cell_type": "code",
      "metadata": {
        "id": "Hp7klUtwF9OD"
      },
      "source": [
        "vocab=sorted(set(text))"
      ],
      "execution_count": 5,
      "outputs": []
    },
    {
      "cell_type": "code",
      "metadata": {
        "id": "a1dSpcD9F9OI",
        "outputId": "4f525d6e-f1a7-4ec3-b3fa-b22ac8d40c07",
        "colab": {
          "base_uri": "https://localhost:8080/",
          "height": 34
        }
      },
      "source": [
        "len(vocab)"
      ],
      "execution_count": 6,
      "outputs": [
        {
          "output_type": "execute_result",
          "data": {
            "text/plain": [
              "84"
            ]
          },
          "metadata": {
            "tags": []
          },
          "execution_count": 6
        }
      ]
    },
    {
      "cell_type": "code",
      "metadata": {
        "id": "HooEg2pZF9ON",
        "outputId": "e9b42646-8807-4267-c235-2649974b7625",
        "colab": {
          "base_uri": "https://localhost:8080/",
          "height": 34
        }
      },
      "source": [
        "char_to_ind={char:ind for ind,char in enumerate(vocab)}\n",
        "char_to_ind['H']"
      ],
      "execution_count": 7,
      "outputs": [
        {
          "output_type": "execute_result",
          "data": {
            "text/plain": [
              "33"
            ]
          },
          "metadata": {
            "tags": []
          },
          "execution_count": 7
        }
      ]
    },
    {
      "cell_type": "code",
      "metadata": {
        "id": "7_-0qOmvF9OS"
      },
      "source": [
        "ind_to_char=np.array(vocab)"
      ],
      "execution_count": 8,
      "outputs": []
    },
    {
      "cell_type": "code",
      "metadata": {
        "id": "rS6z_6-_F9OW"
      },
      "source": [
        "encoded_text=np.array([char_to_ind[c] for c in text])"
      ],
      "execution_count": 9,
      "outputs": []
    },
    {
      "cell_type": "code",
      "metadata": {
        "id": "toj-6B-OF9Oa",
        "outputId": "be61adfa-3a91-4632-fd49-2bb234aae14d",
        "colab": {
          "base_uri": "https://localhost:8080/",
          "height": 67
        }
      },
      "source": [
        "encoded_text[43:78]"
      ],
      "execution_count": 10,
      "outputs": [
        {
          "output_type": "execute_result",
          "data": {
            "text/plain": [
              "array([75, 76, 73, 60, 74,  1, 78, 60,  1, 59, 60, 74, 64, 73, 60,  1, 64,\n",
              "       69, 58, 73, 60, 56, 74, 60,  8,  0,  1,  1, 45, 63, 56, 75,  1, 75,\n",
              "       63])"
            ]
          },
          "metadata": {
            "tags": []
          },
          "execution_count": 10
        }
      ]
    },
    {
      "cell_type": "code",
      "metadata": {
        "id": "gwe9CsddF9Of",
        "outputId": "41c50305-d564-4591-e456-2a63a9b11fcb",
        "colab": {
          "base_uri": "https://localhost:8080/",
          "height": 34
        }
      },
      "source": [
        "encoded_text.shape"
      ],
      "execution_count": 11,
      "outputs": [
        {
          "output_type": "execute_result",
          "data": {
            "text/plain": [
              "(5445609,)"
            ]
          },
          "metadata": {
            "tags": []
          },
          "execution_count": 11
        }
      ]
    },
    {
      "cell_type": "code",
      "metadata": {
        "id": "qtRp3oJrF9Oj"
      },
      "source": [
        "seq_len=120"
      ],
      "execution_count": 12,
      "outputs": []
    },
    {
      "cell_type": "code",
      "metadata": {
        "id": "Glk7lC2UF9On"
      },
      "source": [
        "total_num_seq = len(text)//(seq_len + 1)"
      ],
      "execution_count": 13,
      "outputs": []
    },
    {
      "cell_type": "code",
      "metadata": {
        "id": "0l6lhqC3F9Ow",
        "outputId": "39e3d27a-361d-49b6-d031-b9783fb70eb9",
        "colab": {
          "base_uri": "https://localhost:8080/",
          "height": 34
        }
      },
      "source": [
        "total_num_seq"
      ],
      "execution_count": 14,
      "outputs": [
        {
          "output_type": "execute_result",
          "data": {
            "text/plain": [
              "45005"
            ]
          },
          "metadata": {
            "tags": []
          },
          "execution_count": 14
        }
      ]
    },
    {
      "cell_type": "code",
      "metadata": {
        "id": "kMnlF3ePF9O1"
      },
      "source": [
        "char_dataset=tf.data.Dataset.from_tensor_slices(encoded_text)"
      ],
      "execution_count": 15,
      "outputs": []
    },
    {
      "cell_type": "code",
      "metadata": {
        "id": "p_JMnXDWF9O4",
        "outputId": "b47a49d7-9b6e-4839-a948-39084d610735",
        "colab": {
          "base_uri": "https://localhost:8080/",
          "height": 34
        }
      },
      "source": [
        "type(char_dataset)"
      ],
      "execution_count": 16,
      "outputs": [
        {
          "output_type": "execute_result",
          "data": {
            "text/plain": [
              "tensorflow.python.data.ops.dataset_ops.TensorSliceDataset"
            ]
          },
          "metadata": {
            "tags": []
          },
          "execution_count": 16
        }
      ]
    },
    {
      "cell_type": "code",
      "metadata": {
        "id": "Y_byyaiKF9O8"
      },
      "source": [
        "sequences=char_dataset.batch(seq_len+1,drop_remainder=True)"
      ],
      "execution_count": 17,
      "outputs": []
    },
    {
      "cell_type": "code",
      "metadata": {
        "id": "2yTVl4xKF9O_"
      },
      "source": [
        "def create_seq_target(seq):\n",
        "    input_text=seq[:-1]\n",
        "    target_text=seq[1:]\n",
        "    return input_text,target_text"
      ],
      "execution_count": 18,
      "outputs": []
    },
    {
      "cell_type": "code",
      "metadata": {
        "id": "iXadbjLyF9PD",
        "outputId": "68b32a31-e249-4e25-8f2b-4f10579c596f",
        "colab": {
          "base_uri": "https://localhost:8080/",
          "height": 34
        }
      },
      "source": [
        "dataset=sequences.map(create_seq_target)\n",
        "dataset"
      ],
      "execution_count": 19,
      "outputs": [
        {
          "output_type": "execute_result",
          "data": {
            "text/plain": [
              "<MapDataset shapes: ((120,), (120,)), types: (tf.int64, tf.int64)>"
            ]
          },
          "metadata": {
            "tags": []
          },
          "execution_count": 19
        }
      ]
    },
    {
      "cell_type": "code",
      "metadata": {
        "id": "V0P8zoWpF9PI",
        "outputId": "3fdbab8f-7dc1-45f8-b385-26f4149b9002",
        "colab": {
          "base_uri": "https://localhost:8080/",
          "height": 370
        }
      },
      "source": [
        "for input_txt,target_txt in dataset.take(1):\n",
        "    print(input_txt.numpy())\n",
        "    print(\"\".join(ind_to_char[input_txt.numpy()]))\n",
        "    print('\\n')\n",
        "    print(target_txt.numpy())\n",
        "    print(\"\".join(ind_to_char[target_txt.numpy()]))"
      ],
      "execution_count": 20,
      "outputs": [
        {
          "output_type": "stream",
          "text": [
            "[ 0  1  1  1  1  1  1  1  1  1  1  1  1  1  1  1  1  1  1  1  1  1 12  0\n",
            "  1  1 31 73 70 68  1 61 56 64 73 60 74 75  1 58 73 60 56 75 76 73 60 74\n",
            "  1 78 60  1 59 60 74 64 73 60  1 64 69 58 73 60 56 74 60  8  0  1  1 45\n",
            " 63 56 75  1 75 63 60 73 60 57 80  1 57 60 56 76 75 80  5 74  1 73 70 74\n",
            " 60  1 68 64 62 63 75  1 69 60 77 60 73  1 59 64 60  8  0  1  1 27 76 75]\n",
            "\n",
            "                     1\n",
            "  From fairest creatures we desire increase,\n",
            "  That thereby beauty's rose might never die,\n",
            "  But\n",
            "\n",
            "\n",
            "[ 1  1  1  1  1  1  1  1  1  1  1  1  1  1  1  1  1  1  1  1  1 12  0  1\n",
            "  1 31 73 70 68  1 61 56 64 73 60 74 75  1 58 73 60 56 75 76 73 60 74  1\n",
            " 78 60  1 59 60 74 64 73 60  1 64 69 58 73 60 56 74 60  8  0  1  1 45 63\n",
            " 56 75  1 75 63 60 73 60 57 80  1 57 60 56 76 75 80  5 74  1 73 70 74 60\n",
            "  1 68 64 62 63 75  1 69 60 77 60 73  1 59 64 60  8  0  1  1 27 76 75  1]\n",
            "                     1\n",
            "  From fairest creatures we desire increase,\n",
            "  That thereby beauty's rose might never die,\n",
            "  But \n"
          ],
          "name": "stdout"
        }
      ]
    },
    {
      "cell_type": "code",
      "metadata": {
        "id": "RSZBWpTqF9PM"
      },
      "source": [
        "batch_size=128"
      ],
      "execution_count": 21,
      "outputs": []
    },
    {
      "cell_type": "code",
      "metadata": {
        "id": "jTlsQRQAF9PQ"
      },
      "source": [
        "buffer_size=10000\n",
        "dataset=dataset.shuffle(buffer_size).batch(batch_size,drop_remainder=True)"
      ],
      "execution_count": 22,
      "outputs": []
    },
    {
      "cell_type": "code",
      "metadata": {
        "id": "2YkJOxOqF9PU",
        "outputId": "5f7472f9-42e7-46a1-cbf8-b08fb4dd49f9",
        "colab": {
          "base_uri": "https://localhost:8080/",
          "height": 34
        }
      },
      "source": [
        "dataset"
      ],
      "execution_count": 23,
      "outputs": [
        {
          "output_type": "execute_result",
          "data": {
            "text/plain": [
              "<BatchDataset shapes: ((128, 120), (128, 120)), types: (tf.int64, tf.int64)>"
            ]
          },
          "metadata": {
            "tags": []
          },
          "execution_count": 23
        }
      ]
    },
    {
      "cell_type": "code",
      "metadata": {
        "id": "6_qQzpO7F9PX"
      },
      "source": [
        "vocab_size=len(vocab)"
      ],
      "execution_count": 24,
      "outputs": []
    },
    {
      "cell_type": "code",
      "metadata": {
        "id": "S5_PnY2tF9Pc"
      },
      "source": [
        "embed_dim=64"
      ],
      "execution_count": 25,
      "outputs": []
    },
    {
      "cell_type": "code",
      "metadata": {
        "id": "o43pgKFFF9Pg"
      },
      "source": [
        "rnn_neurons=1026"
      ],
      "execution_count": 26,
      "outputs": []
    },
    {
      "cell_type": "code",
      "metadata": {
        "id": "p3WFFR8sF9Pl"
      },
      "source": [
        "from tensorflow.keras.losses import sparse_categorical_crossentropy"
      ],
      "execution_count": 27,
      "outputs": []
    },
    {
      "cell_type": "code",
      "metadata": {
        "id": "femAcu6MF9Po"
      },
      "source": [
        "def sparse_cat_loss (y_true,y_pred):\n",
        "    return sparse_categorical_crossentropy(y_true,y_pred,from_logits=True)"
      ],
      "execution_count": 28,
      "outputs": []
    },
    {
      "cell_type": "code",
      "metadata": {
        "id": "HBWtAfT0F9Pr"
      },
      "source": [
        "from tensorflow.keras.models import Sequential\n",
        "from tensorflow.keras.layers import Embedding,GRU,Dense"
      ],
      "execution_count": 29,
      "outputs": []
    },
    {
      "cell_type": "code",
      "metadata": {
        "id": "B--uQKlIF9Pu"
      },
      "source": [
        "def create_model(vocab_size,embed_dim,rnn_neurons,batch_size):\n",
        "    model=Sequential()\n",
        "    model.add(Embedding(vocab_size,embed_dim,batch_input_shape=[batch_size,None]))\n",
        "    model.add(GRU(rnn_neurons,return_sequences=True,stateful=True,recurrent_initializer='glorot_uniform'))\n",
        "    model.add(Dense(vocab_size))\n",
        "    model.compile('adam',loss=sparse_cat_loss)\n",
        "    return model"
      ],
      "execution_count": 30,
      "outputs": []
    },
    {
      "cell_type": "code",
      "metadata": {
        "id": "DJbS_NgzF9Px"
      },
      "source": [
        "model=create_model(vocab_size=vocab_size,embed_dim=embed_dim,rnn_neurons=rnn_neurons,batch_size=batch_size)"
      ],
      "execution_count": 31,
      "outputs": []
    },
    {
      "cell_type": "code",
      "metadata": {
        "id": "mo5g4jtWF9P2",
        "outputId": "00365bae-a5ac-4621-dc59-3915c7124439",
        "colab": {
          "base_uri": "https://localhost:8080/",
          "height": 252
        }
      },
      "source": [
        "model.summary()"
      ],
      "execution_count": 32,
      "outputs": [
        {
          "output_type": "stream",
          "text": [
            "Model: \"sequential\"\n",
            "_________________________________________________________________\n",
            "Layer (type)                 Output Shape              Param #   \n",
            "=================================================================\n",
            "embedding (Embedding)        (128, None, 64)           5376      \n",
            "_________________________________________________________________\n",
            "gru (GRU)                    (128, None, 1026)         3361176   \n",
            "_________________________________________________________________\n",
            "dense (Dense)                (128, None, 84)           86268     \n",
            "=================================================================\n",
            "Total params: 3,452,820\n",
            "Trainable params: 3,452,820\n",
            "Non-trainable params: 0\n",
            "_________________________________________________________________\n"
          ],
          "name": "stdout"
        }
      ]
    },
    {
      "cell_type": "code",
      "metadata": {
        "id": "5TiKtir_F9P5"
      },
      "source": [
        "for input_example_batch,target_example_batch in dataset.take(1):\n",
        "  target_example_batch_predictions=model(input_example_batch)"
      ],
      "execution_count": 33,
      "outputs": []
    },
    {
      "cell_type": "code",
      "metadata": {
        "id": "9YSzGR8hHyZe"
      },
      "source": [
        "sampled_indices=tf.random.categorical(target_example_batch_predictions[0],num_samples=1)"
      ],
      "execution_count": 34,
      "outputs": []
    },
    {
      "cell_type": "code",
      "metadata": {
        "id": "AzOwTunvINM0"
      },
      "source": [
        "sampled_indices=tf.squeeze(sampled_indices,axis=-1).numpy()"
      ],
      "execution_count": 35,
      "outputs": []
    },
    {
      "cell_type": "code",
      "metadata": {
        "id": "iImO_AQAIbYy",
        "outputId": "c4a10dc6-6870-4921-e7bf-d503199f1dc0",
        "colab": {
          "base_uri": "https://localhost:8080/",
          "height": 151
        }
      },
      "source": [
        "sampled_indices"
      ],
      "execution_count": 36,
      "outputs": [
        {
          "output_type": "execute_result",
          "data": {
            "text/plain": [
              "array([ 5, 79, 14, 41, 76, 24, 36, 15, 52, 42,  8, 46,  2, 33,  9, 16, 54,\n",
              "       53, 53, 53, 77,  0, 39, 75, 69, 83, 23, 32,  0, 66, 80, 46, 82, 43,\n",
              "       62, 49, 71, 48, 16, 83, 52, 30,  5, 22, 47,  7, 71, 66, 44, 23, 75,\n",
              "        8, 55, 14, 29,  0, 68, 39, 56, 10, 16, 63, 36, 65, 51, 74, 51, 56,\n",
              "       22, 28, 53,  4,  4, 68, 16, 11, 53, 33, 35, 41, 18, 15, 35,  1, 30,\n",
              "       39, 53, 35, 80, 15, 23, 62,  0, 36, 48, 58, 47, 66, 80, 44, 48, 50,\n",
              "       34, 64, 60, 82, 72, 17, 80, 13, 39, 77, 77, 80, 79,  7, 43, 44, 79,\n",
              "       14])"
            ]
          },
          "metadata": {
            "tags": []
          },
          "execution_count": 36
        }
      ]
    },
    {
      "cell_type": "code",
      "metadata": {
        "id": "XgY9Tm83IeZt",
        "outputId": "e6f9649f-86aa-4f0d-893e-5d479b891c38",
        "colab": {
          "base_uri": "https://localhost:8080/",
          "height": 185
        }
      },
      "source": [
        "ind_to_char[sampled_indices]"
      ],
      "execution_count": 37,
      "outputs": [
        {
          "output_type": "execute_result",
          "data": {
            "text/plain": [
              "array([\"'\", 'x', '3', 'P', 'u', '>', 'K', '4', '[', 'Q', ',', 'U', '!',\n",
              "       'H', '-', '5', '_', ']', ']', ']', 'v', '\\n', 'N', 't', 'n', '}',\n",
              "       '<', 'G', '\\n', 'k', 'y', 'U', '|', 'R', 'g', 'X', 'p', 'W', '5',\n",
              "       '}', '[', 'E', \"'\", ';', 'V', ')', 'p', 'k', 'S', '<', 't', ',',\n",
              "       '`', '3', 'D', '\\n', 'm', 'N', 'a', '.', '5', 'h', 'K', 'j', 'Z',\n",
              "       's', 'Z', 'a', ';', 'C', ']', '&', '&', 'm', '5', '0', ']', 'H',\n",
              "       'J', 'P', '7', '4', 'J', ' ', 'E', 'N', ']', 'J', 'y', '4', '<',\n",
              "       'g', '\\n', 'K', 'W', 'c', 'V', 'k', 'y', 'S', 'W', 'Y', 'I', 'i',\n",
              "       'e', '|', 'q', '6', 'y', '2', 'N', 'v', 'v', 'y', 'x', ')', 'R',\n",
              "       'S', 'x', '3'], dtype='<U1')"
            ]
          },
          "metadata": {
            "tags": []
          },
          "execution_count": 37
        }
      ]
    },
    {
      "cell_type": "code",
      "metadata": {
        "id": "MUbcF_nIInY6"
      },
      "source": [
        "epochs=30\n"
      ],
      "execution_count": 38,
      "outputs": []
    },
    {
      "cell_type": "code",
      "metadata": {
        "id": "WfqgnX5UKIsK"
      },
      "source": [
        "from tensorflow.keras.models import load_model"
      ],
      "execution_count": 39,
      "outputs": []
    },
    {
      "cell_type": "code",
      "metadata": {
        "id": "inb9ZFhYKTw4"
      },
      "source": [
        "model=create_model(vocab_size,embed_dim,rnn_neurons,batch_size=1)"
      ],
      "execution_count": 40,
      "outputs": []
    },
    {
      "cell_type": "code",
      "metadata": {
        "id": "GJ-ilM5FKhij"
      },
      "source": [
        "model.load_weights('shakespeare_gen.h5')\n",
        "model.build(tf.TensorShape([1,None]))"
      ],
      "execution_count": 41,
      "outputs": []
    },
    {
      "cell_type": "code",
      "metadata": {
        "id": "xZBdwte0LSxv",
        "outputId": "792ac401-989c-4380-9f1b-d9d041bf7b66",
        "colab": {
          "base_uri": "https://localhost:8080/",
          "height": 252
        }
      },
      "source": [
        "model.summary()"
      ],
      "execution_count": 42,
      "outputs": [
        {
          "output_type": "stream",
          "text": [
            "Model: \"sequential_1\"\n",
            "_________________________________________________________________\n",
            "Layer (type)                 Output Shape              Param #   \n",
            "=================================================================\n",
            "embedding_1 (Embedding)      (1, None, 64)             5376      \n",
            "_________________________________________________________________\n",
            "gru_1 (GRU)                  (1, None, 1026)           3361176   \n",
            "_________________________________________________________________\n",
            "dense_1 (Dense)              (1, None, 84)             86268     \n",
            "=================================================================\n",
            "Total params: 3,452,820\n",
            "Trainable params: 3,452,820\n",
            "Non-trainable params: 0\n",
            "_________________________________________________________________\n"
          ],
          "name": "stdout"
        }
      ]
    },
    {
      "cell_type": "code",
      "metadata": {
        "id": "cbYSORd9LavU"
      },
      "source": [
        "def generate_text(model,start_seed,gen_size=500,temp=1.0):\n",
        "  num_generate=gen_size\n",
        "  input_eval=[char_to_ind[s] for s in start_seed]\n",
        "  input_eval=tf.expand_dims(input_eval,0)\n",
        "  text_generated=[]\n",
        "  temperature=temp \n",
        "  model.reset_states()\n",
        "  for i in range(num_generate):\n",
        "    predictions=model.predict(input_eval)\n",
        "    predictions=tf.squeeze(predictions,0)\n",
        "    predictions=predictions/temperature\n",
        "    predictated_id=tf.random.categorical(predictions,num_samples=1)[-1,0].numpy()\n",
        "    input_eval=tf.expand_dims([predictated_id],0)\n",
        "    text_generated.append(ind_to_char[predictated_id])\n",
        "  return (start_seed+\"\".join(text_generated))   "
      ],
      "execution_count": 49,
      "outputs": []
    },
    {
      "cell_type": "code",
      "metadata": {
        "id": "NsxiJOdyNi52",
        "outputId": "86406c00-0b9f-492e-b8c9-0eb7f8e6249e",
        "colab": {
          "base_uri": "https://localhost:8080/",
          "height": 403
        }
      },
      "source": [
        "print(generate_text(model,\"JULIET\",gen_size=1000))"
      ],
      "execution_count": 50,
      "outputs": [
        {
          "output_type": "stream",
          "text": [
            "JULIETThler\n",
            "\n",
            "  GLOUCESTER. Why he hath thought out shall become my grief.\n",
            "  RODERIGO. Good morrow, cousin, Is to call a little prince?\n",
            "    As I scarce, so thou purpose up tifts,\n",
            "    But leave us as it will proclaim the empire,\n",
            "    Receiving that their works or boot of blood;\n",
            "    My sighs awake, a sparrow. Nay, what noise? When hark!\n",
            "    But still I turn her fiery me to-day';\n",
            "    And you are closely in our birth the real\n",
            "    Of earless bloody huntshan, shall I say\n",
            "  croory! I will take your name.\n",
            "  OTHELLO. Well, I will to the Prince and speak with thee for proof, and shame-\n",
            "    Here.  as water is not st.  \n",
            "  OLIVIA. What hast thou to me?\n",
            "  CLOWN. Peace! so he shit in this,\n",
            "    Led him to palacement. Passio, dreay the\n",
            "    Peter courses from the hopes of his at his uffect\n",
            "    Big-sparring in her tongue in him, and him hath rear\n",
            "    On Fife's need-he in the climate.\n",
            "  STRATO. Widow?\n",
            "  PAINTER. Here's one that lov'd me\n",
            "    Thou com'st to th' Othello.          [Reads]  'Panis, Jack, This they mis\n"
          ],
          "name": "stdout"
        }
      ]
    }
  ]
}